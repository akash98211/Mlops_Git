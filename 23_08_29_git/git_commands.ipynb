{
 "cells": [
  {
   "cell_type": "code",
   "execution_count": null,
   "id": "04d73083-6133-4245-a839-2002ec917416",
   "metadata": {},
   "outputs": [],
   "source": [
    "git diff \n",
    "\n",
    "able to see the difference \n",
    "\n",
    "\n"
   ]
  },
  {
   "cell_type": "code",
   "execution_count": null,
   "id": "e7b2ab2b-9b62-42e4-a1ec-1a28ba2dcf53",
   "metadata": {},
   "outputs": [],
   "source": [
    "How to read the output of git diff command ?\n",
    "git diff\n",
    "diff --git a/main.py b/main.py >> this line will show the source to which difference \n",
    "index 03608f5..c6ba357 100644 >> internal metadata for git, this we can ignore \n",
    "\n",
    "--- a/main.py >> changes from a/file_name marked by -\n",
    "+++ b/main.py >> changes from a/file_name marked by +\n",
    "These lines are legends. \n",
    "\n",
    "@@ -2,3 +2,5 @@ diff chunks "
   ]
  },
  {
   "cell_type": "code",
   "execution_count": null,
   "id": "a7d67eba-7cb9-48c2-9618-9de2b706eae0",
   "metadata": {},
   "outputs": [],
   "source": [
    "comparing files between two commits \n",
    "\n",
    "Syntax: git diff commit_id1 commit_id2"
   ]
  },
  {
   "cell_type": "code",
   "execution_count": null,
   "id": "ff3a6393-0c54-44b7-8c81-cbd647430022",
   "metadata": {},
   "outputs": [],
   "source": [
    "comparing branches \n",
    "Syntax: git diff branch1 branch2"
   ]
  },
  {
   "cell_type": "code",
   "execution_count": null,
   "id": "a2df3d79-0472-42f9-ae93-4358be907d73",
   "metadata": {},
   "outputs": [],
   "source": [
    "comparing files from two different branches \n",
    "Syntax: git diff branch1 branch2 ./file_name.txt\n"
   ]
  }
 ],
 "metadata": {
  "kernelspec": {
   "display_name": "Python 3 (ipykernel)",
   "language": "python",
   "name": "python3"
  },
  "language_info": {
   "codemirror_mode": {
    "name": "ipython",
    "version": 3
   },
   "file_extension": ".py",
   "mimetype": "text/x-python",
   "name": "python",
   "nbconvert_exporter": "python",
   "pygments_lexer": "ipython3",
   "version": "3.11.4"
  }
 },
 "nbformat": 4,
 "nbformat_minor": 5
}
